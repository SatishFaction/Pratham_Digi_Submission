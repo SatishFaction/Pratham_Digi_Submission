{
 "cells": [
  {
   "cell_type": "code",
   "execution_count": 1,
   "metadata": {},
   "outputs": [
    {
     "name": "stdout",
     "output_type": "stream",
     "text": [
      "Requirement already satisfied: requests in c:\\users\\hp\\anaconda3\\lib\\site-packages (2.24.0)\n",
      "Requirement already satisfied: idna<3,>=2.5 in c:\\users\\hp\\anaconda3\\lib\\site-packages (from requests) (2.10)\n",
      "Requirement already satisfied: urllib3!=1.25.0,!=1.25.1,<1.26,>=1.21.1 in c:\\users\\hp\\anaconda3\\lib\\site-packages (from requests) (1.25.9)\n",
      "Requirement already satisfied: certifi>=2017.4.17 in c:\\users\\hp\\anaconda3\\lib\\site-packages (from requests) (2020.6.20)\n",
      "Requirement already satisfied: chardet<4,>=3.0.2 in c:\\users\\hp\\anaconda3\\lib\\site-packages (from requests) (3.0.4)\n"
     ]
    }
   ],
   "source": [
    "!pip install requests"
   ]
  },
  {
   "cell_type": "code",
   "execution_count": 3,
   "metadata": {},
   "outputs": [],
   "source": [
    "# importing requests package \n",
    "import requests      \n",
    "  \n",
    "def NewsFromBBC(): \n",
    "      \n",
    "    # BBC news api \n",
    "    main_url = \" http://newsapi.org/v2/everything?q=pratham foundation&from=2020-11-24&to=2020-11-24&sortBy=popularity&apiKey=aab25f32f19a4ad882a765788f7cba94\"\n",
    "  \n",
    "    # fetching data in json format \n",
    "    open_bbc_page = requests.get(main_url).json() \n",
    "  \n",
    "    # getting all articles in a string article \n",
    "    article = open_bbc_page[\"articles\"] \n",
    "  \n",
    "    # empty list which will  \n",
    "    # contain all trending news \n",
    "    results = [] \n",
    "      \n",
    "    for ar in article: \n",
    "        results.append(ar[\"title\"]) \n",
    "          \n",
    "    for i in range(len(results)): \n",
    "          \n",
    "        # printing all trending news \n",
    "        print(i + 1, results[i]) \n",
    "  \n",
    "    #to read the news out loud for us \n",
    "    from win32com.client import Dispatch \n",
    "    speak = Dispatch(\"SAPI.Spvoice\") \n",
    "    speak.Speak(results)                  \n",
    "  \n",
    "# Driver Code \n",
    "if __name__ == '__main__': \n",
    "      \n",
    "    # function call \n",
    "    NewsFromBBC()  "
   ]
  },
  {
   "cell_type": "code",
   "execution_count": null,
   "metadata": {},
   "outputs": [],
   "source": [
    "aab25f32f19a4ad882a765788f7cba94"
   ]
  }
 ],
 "metadata": {
  "kernelspec": {
   "display_name": "Python 3",
   "language": "python",
   "name": "python3"
  },
  "language_info": {
   "codemirror_mode": {
    "name": "ipython",
    "version": 3
   },
   "file_extension": ".py",
   "mimetype": "text/x-python",
   "name": "python",
   "nbconvert_exporter": "python",
   "pygments_lexer": "ipython3",
   "version": "3.8.3"
  }
 },
 "nbformat": 4,
 "nbformat_minor": 4
}
